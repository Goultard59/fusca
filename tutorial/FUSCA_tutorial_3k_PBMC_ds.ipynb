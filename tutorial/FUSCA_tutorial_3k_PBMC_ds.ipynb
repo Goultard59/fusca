{
 "cells": [
  {
   "cell_type": "markdown",
   "metadata": {},
   "source": [
    "# **Protocol title: FUSCA Tutorial - 3k PBMC dataset**\n",
    "\n",
    "Compiled: 2022-04-26\n",
    "\n",
    "# **Authors**\n",
    "Edroaldo Lummertz da Rocha<sup>1</sup>, Gabriela Flávia Rodrigues Luiz<sup>1</sup>, Marcelo Falchetti<sup>2</sup>\n",
    "\n",
    "Author Affiliations\n",
    "- 1 Department of Microbiology, Immunology and Parasitology, Federal University of Santa Catarina, Florianópolis, SC, 88040-900, Brazil\n",
    "- 2 Graduate Program of Pharmacology, Center for Biological Sciences, Federal University of Santa Catarina, Florianópolis, SC, 88040-900, Brazil\n",
    "\n",
    "Corresponding Author: Edroaldo Lummertz da Rocha,\n",
    "\n",
    "edroaldo.lummertz@ufsc.br / edroaldo@gmail.com"
   ]
  },
  {
   "cell_type": "markdown",
   "metadata": {},
   "source": [
    "## 1. Install dependencies"
   ]
  },
  {
   "cell_type": "code",
   "execution_count": null,
   "metadata": {},
   "outputs": [],
   "source": [
    "list.of.packages <- c('cccd', 'grid', 'tsne', 'Rtsne', 'igraph', 'mclust', 'ggplot2', 'pheatmap', 'reshape', 'reshape2')\n",
    "new.packages <- list.of.packages[!(list.of.packages %in% installed.packages()[, \"Package\"])]\n",
    "if(length(new.packages)) install.packages(new.packages, repos = c(\"http://cran.rstudio.com/\", \"https://bioconductor.org/biocLite.R\"))\n",
    "\n",
    "# In case of a missing package after running the steps above, please install them by typing:\n",
    "source('http://bioconductor.org/biocLite.R')\n",
    "biocLite('package_name')\n",
    "\n",
    "# The package Vennerable also needs to be installed:\n",
    "install.packages(\"Vennerable\", repos = \"http://R-Forge.R-project.org\")\n",
    "\n",
    "# Install FUSCA\n",
    "library(devtools)\n",
    "devtools::install_github(\"edroaldo/fusca\")"
   ]
  },
  {
   "cell_type": "markdown",
   "metadata": {},
   "source": [
    "## 2. Load libraries"
   ]
  },
  {
   "cell_type": "code",
   "execution_count": 2,
   "metadata": {},
   "outputs": [
    {
     "data": {
      "text/html": [
       "<ol>\n",
       "\t<li>TRUE</li>\n",
       "\t<li>TRUE</li>\n",
       "\t<li>TRUE</li>\n",
       "\t<li>TRUE</li>\n",
       "\t<li>TRUE</li>\n",
       "\t<li>TRUE</li>\n",
       "\t<li>TRUE</li>\n",
       "\t<li>TRUE</li>\n",
       "\t<li>TRUE</li>\n",
       "\t<li>TRUE</li>\n",
       "\t<li>TRUE</li>\n",
       "\t<li>TRUE</li>\n",
       "\t<li>TRUE</li>\n",
       "\t<li>TRUE</li>\n",
       "\t<li>TRUE</li>\n",
       "\t<li>TRUE</li>\n",
       "\t<li>TRUE</li>\n",
       "</ol>\n"
      ],
      "text/latex": [
       "\\begin{enumerate}\n",
       "\\item TRUE\n",
       "\\item TRUE\n",
       "\\item TRUE\n",
       "\\item TRUE\n",
       "\\item TRUE\n",
       "\\item TRUE\n",
       "\\item TRUE\n",
       "\\item TRUE\n",
       "\\item TRUE\n",
       "\\item TRUE\n",
       "\\item TRUE\n",
       "\\item TRUE\n",
       "\\item TRUE\n",
       "\\item TRUE\n",
       "\\item TRUE\n",
       "\\item TRUE\n",
       "\\item TRUE\n",
       "\\end{enumerate}\n"
      ],
      "text/markdown": [
       "1. TRUE\n",
       "2. TRUE\n",
       "3. TRUE\n",
       "4. TRUE\n",
       "5. TRUE\n",
       "6. TRUE\n",
       "7. TRUE\n",
       "8. TRUE\n",
       "9. TRUE\n",
       "10. TRUE\n",
       "11. TRUE\n",
       "12. TRUE\n",
       "13. TRUE\n",
       "14. TRUE\n",
       "15. TRUE\n",
       "16. TRUE\n",
       "17. TRUE\n",
       "\n",
       "\n"
      ],
      "text/plain": [
       "[[1]]\n",
       "[1] TRUE\n",
       "\n",
       "[[2]]\n",
       "[1] TRUE\n",
       "\n",
       "[[3]]\n",
       "[1] TRUE\n",
       "\n",
       "[[4]]\n",
       "[1] TRUE\n",
       "\n",
       "[[5]]\n",
       "[1] TRUE\n",
       "\n",
       "[[6]]\n",
       "[1] TRUE\n",
       "\n",
       "[[7]]\n",
       "[1] TRUE\n",
       "\n",
       "[[8]]\n",
       "[1] TRUE\n",
       "\n",
       "[[9]]\n",
       "[1] TRUE\n",
       "\n",
       "[[10]]\n",
       "[1] TRUE\n",
       "\n",
       "[[11]]\n",
       "[1] TRUE\n",
       "\n",
       "[[12]]\n",
       "[1] TRUE\n",
       "\n",
       "[[13]]\n",
       "[1] TRUE\n",
       "\n",
       "[[14]]\n",
       "[1] TRUE\n",
       "\n",
       "[[15]]\n",
       "[1] TRUE\n",
       "\n",
       "[[16]]\n",
       "[1] TRUE\n",
       "\n",
       "[[17]]\n",
       "[1] TRUE\n"
      ]
     },
     "metadata": {},
     "output_type": "display_data"
    }
   ],
   "source": [
    "list.of.packages<-c(\"cccd\", \"grid\", \"Rcpp\", \"tsne\", \"uwot\", \"dplyr\", \"fusca\", \"Rtsne\", \"igraph\", \"Matrix\", \"mclust\", \"tibble\", \n",
    "                    \"cowplot\", \"ggplot2\", \"reshape\", \"reshape2\", \"pheatmap\")\n",
    "lapply(list.of.packages, require, character.only = TRUE); rm(list.of.packages)"
   ]
  },
  {
   "cell_type": "markdown",
   "metadata": {},
   "source": [
    "## 3. Set the working directory and seed"
   ]
  },
  {
   "cell_type": "code",
   "execution_count": 3,
   "metadata": {},
   "outputs": [],
   "source": [
    "set.seed(42)\n",
    "setwd(\"/workspace/Edroaldo/CellComm\")"
   ]
  },
  {
   "cell_type": "markdown",
   "metadata": {},
   "source": [
    "## 4. Load the PBMC dataset (download data from https://cf.10xgenomics.com/samples/cell/pbmc3k/pbmc3k_filtered_gene_bc_matrices.tar.gz)"
   ]
  },
  {
   "cell_type": "code",
   "execution_count": 4,
   "metadata": {},
   "outputs": [
    {
     "data": {
      "text/plain": [
       "5 x 5 sparse Matrix of class \"dgCMatrix\"\n",
       "             AAACATACAACCAC-1 AAACATTGAGCTAC-1 AAACATTGATCAGC-1\n",
       "MIR1302-10                  .                .                .\n",
       "FAM138A                     .                .                .\n",
       "OR4F5                       .                .                .\n",
       "RP11-34P13.7                .                .                .\n",
       "RP11-34P13.8                .                .                .\n",
       "             AAACCGTGCTTCCG-1 AAACCGTGTATGCG-1\n",
       "MIR1302-10                  .                .\n",
       "FAM138A                     .                .\n",
       "OR4F5                       .                .\n",
       "RP11-34P13.7                .                .\n",
       "RP11-34P13.8                .                ."
      ]
     },
     "metadata": {},
     "output_type": "display_data"
    }
   ],
   "source": [
    "#data = read10X(\"filtered_gene_bc_matrices/hg19\")\n",
    "data = readMM(\"filtered_gene_bc_matrices/hg19/matrix.mtx\");\n",
    "genes <- make.unique(read.delim(\"filtered_gene_bc_matrices/hg19/genes.tsv\", header = FALSE, stringsAsFactors = FALSE)$V2, sep = \".\");\n",
    "rownames(data) = genes;\n",
    "colnames(data) <- read.delim(\"filtered_gene_bc_matrices/hg19/barcodes.tsv\", header = FALSE, stringsAsFactors = FALSE)$V1\n",
    "data = as(data, \"dgCMatrix\")\n",
    "data[1:5, 1:5]"
   ]
  },
  {
   "cell_type": "markdown",
   "metadata": {},
   "source": [
    "## 5. Create cellRouter object with PBMC data\n",
    "\n",
    "We create the CellRouter object using the *CreateCellRouter* function and PBMC data. \n",
    "\n",
    "Parameters of *CreateCellRouter* function:\n",
    "- assay.type = \"RNA\", defining transcriptomics analysis.\n",
    "- min.genes = “200”, defining the minimum number of genes that a cell must express to be considered.\n",
    "- min.cells = “3”, defining the minimum number of cells that a gene is expressed (counts > 0) to be considered.\n",
    "- is.expr = “0”, defining the minimum expression value (counts) a gene must have to be considered expressed."
   ]
  },
  {
   "cell_type": "code",
   "execution_count": 5,
   "metadata": {},
   "outputs": [
    {
     "name": "stdout",
     "output_type": "stream",
     "text": [
      "[1] 13714  2700\n"
     ]
    }
   ],
   "source": [
    "cellrouter.pbmc <- CreateCellRouter(data, assay.type = \"RNA\", min.genes = 200, min.cells = 3, is.expr = 0)"
   ]
  },
  {
   "cell_type": "markdown",
   "metadata": {},
   "source": [
    "## 6. Filter out cells based on a list of variables\n",
    "\n",
    "Calculating the percentage of reads that map to mitochondrial and ribosomal genes.\n",
    "\n",
    "PS: High percentage of mitochondrial genes are indicative of poor-quality cells. Few unique genes per cell are indicative of low-quallity cell while very high genes per cell may be doublets."
   ]
  },
  {
   "cell_type": "code",
   "execution_count": 6,
   "metadata": {},
   "outputs": [
    {
     "data": {
      "image/png": "[encoded data removed]",
      "text/plain": [
       "plot without title"
      ]
     },
     "metadata": {
      "image/png": {
       "height": 420,
       "width": 420
      }
     },
     "output_type": "display_data"
    }
   ],
   "source": [
    "mito.genes <- grep(pattern = \"^MT-\", x = rownames(x = cellrouter.pbmc@assays$RNA@ndata), value = TRUE)\n",
    "percent.mito <- Matrix::colSums(cellrouter.pbmc@assays$RNA@ndata[mito.genes, ]) / Matrix::colSums(cellrouter.pbmc@assays$RNA@ndata)\n",
    "ribo.genes <- grep(pattern = \"^RP[SL]\", x = rownames(x = cellrouter.pbmc@assays$RNA@ndata), value = TRUE)\n",
    "percent.ribo <- Matrix::colSums(cellrouter.pbmc@assays$RNA@ndata[ribo.genes, ]) / Matrix::colSums(cellrouter.pbmc@assays$RNA@ndata)\n",
    "\n",
    "cellrouter.pbmc@assays$RNA@sampTab$percent.mito = percent.mito\n",
    "cellrouter.pbmc@assays$RNA@sampTab$percent.ribo = percent.ribo\n",
    "\n",
    "p1 = ggplot(cellrouter.pbmc@assays$RNA@sampTab, aes(x = \"percent.mito\", y = percent.mito)) + \n",
    "    geom_violin(fill = \"grey80\", colour = \"#FF0000\") + theme(legend.position = \"none\") + xlab(\"\") \n",
    "p2 = ggplot(cellrouter.pbmc@assays$RNA@sampTab, aes(x = \"percent.ribo\", y = percent.ribo)) + \n",
    "    geom_violin(fill = \"grey80\", colour = \"#FF9900\") + theme(legend.position = \"none\") + xlab(\"\") \n",
    "p3 = ggplot(cellrouter.pbmc@assays$RNA@sampTab, aes(x = \"nGene\", y = nGene)) + \n",
    "    geom_violin(fill = \"grey80\", colour = \"#3366FF\") + theme(legend.position = \"none\") + xlab(\"\") \n",
    "plot_grid(p1, p2, p3, nrow = 1) # labels = \"\")\n",
    "\n",
    "cellrouter.pbmc <- filterCells(cellrouter.pbmc, assay.type = \"RNA\", \n",
    "                               variables = c(\"nGene\", \"percent.mito\"), \n",
    "                               thresholds.low = c(200, -Inf, 0.10), thresholds.high = c(2500, 0.05, Inf))"
   ]
  },
  {
   "cell_type": "markdown",
   "metadata": {},
   "source": [
    "## 7. Normalizing the data\n",
    "\n",
    "To normalize the expression data, we use the *Normalize* function."
   ]
  },
  {
   "cell_type": "code",
   "execution_count": 7,
   "metadata": {},
   "outputs": [],
   "source": [
    "cellrouter.pbmc <- Normalize(cellrouter.pbmc)"
   ]
  },
  {
   "cell_type": "markdown",
   "metadata": {},
   "source": [
    "## 8. Identify high variable genes, rank them and use the top 2000 genes.\n",
    "\n",
    "We use the function *FindVariableGenes* to identify the genes with the highest variance of expression. \n",
    "\n",
    "Parameters of *FindVariableGenes* function:\n",
    "- assay.type = \"RNA\", defining transcriptomics analysis.\n",
    "- method = \"vst\", defining the method for variable's identification.\n",
    "- pvalue = \"0.05\", defining the p-value threshold for the considered genes."
   ]
  },
  {
   "cell_type": "code",
   "execution_count": 8,
   "metadata": {},
   "outputs": [
    {
     "name": "stdout",
     "output_type": "stream",
     "text": [
      "[1] \"warnings supressed\"\n",
      "[1] \"finished warnings?\"\n"
     ]
    }
   ],
   "source": [
    "var.genes <- FindVariableGenes(cellrouter.pbmc, assay.type = \"RNA\", method = \"vst\", loess.span = 0.3, pvalue = 0.05)\n",
    "cellrouter.pbmc@var.genes <- rownames(var.genes[1:2000, ])"
   ]
  },
  {
   "cell_type": "markdown",
   "metadata": {},
   "source": [
    "# 9. Scaling the data\n",
    "\n",
    "To scale the data, we use the *scaleData* function and the 2000 most variable genes."
   ]
  },
  {
   "cell_type": "code",
   "execution_count": 9,
   "metadata": {},
   "outputs": [],
   "source": [
    "cellrouter.pbmc <- scaleData(cellrouter.pbmc, genes.use = cellrouter.pbmc@var.genes)"
   ]
  },
  {
   "cell_type": "markdown",
   "metadata": {},
   "source": [
    "## 10. Dimensional reduction\n",
    "\n",
    "We reduce the dimensionality of the data using linear method, Principal Component Analysis (PCA) using the *computePCA* function and non-linear method, Uniform Manifold Approximation and Projection (UMAP) using the *umap* function from Uwot package. \n",
    "\n",
    "Parameters of *computePCA* function:\n",
    "- assay.type = \"RNA\", defining transcriptomics analysis.\n",
    "- seed = 42, sets the seed of R‘s random number generator, which is useful for creating simulations or random objects/analysis that can be reproduced.\n",
    "- num.pcs = 50, defining the number of principal components to compute.\n",
    "- genes.use = “cellrouter.pbmc@var.genes”; defining the genes to compute the PCA. Here we used the 2000 most variable genes.\n",
    "\n",
    "Parameters of uwot::*umap* function:\n",
    "- X = “cellrouter.pbmc@pca$cell.embeddings[, 1:pc]”, input data with the number of principal components (pc) to compute.\n",
    "- spread = 1, defining the effective scale of embedded points.\n",
    "- min_dist = 0.3, defining how close the points appear in the final layout.\n",
    "- n_neighbors = 30, defining the number of nearest neighbors.\n",
    "- metric = \"cosine\", defining the distances between data points to compute."
   ]
  },
  {
   "cell_type": "code",
   "execution_count": null,
   "metadata": {},
   "outputs": [],
   "source": [
    "cellrouter.pbmc <- computePCA(cellrouter.pbmc, assay.type = \"RNA\", seed = 42, num.pcs = 50, genes.use = cellrouter.pbmc@var.genes) \n",
    "umap.done <- uwot::umap(cellrouter.pbmc@pca$cell.embeddings[, 1:15], spread = 1, min_dist = 0.3, n_neighbors = 30, metric = \"cosine\")\n",
    "rownames(umap.done) <- rownames(cellrouter.pbmc@pca$cell.embeddings)\n",
    "colnames(umap.done) <- c(\"UMAP1\", \"UMAP2\")\n",
    "cellrouter.pbmc <- customSpace(object = cellrouter.pbmc, matrix = umap.done)"
   ]
  },
  {
   "cell_type": "markdown",
   "metadata": {},
   "source": [
    "## 11. Cluster identification\n",
    "\n",
    "We identified clusters defined by transcriptional variance and identified after dimensionality reduction using the *findClusters* function. \n",
    "\n",
    "Parameters of *findClusters* function:\n",
    "- k = 15, defining the number of nearest neighbors to build a k-nearest neighbors graph.\n",
    "- num.pcs = 15, defining the number of principal components to compute.\n",
    "- nn.type = \"snn\", defining the method to find the k-nearest neighbors graph."
   ]
  },
  {
   "cell_type": "code",
   "execution_count": null,
   "metadata": {},
   "outputs": [],
   "source": [
    "cellrouter.pbmc <- findClusters(cellrouter.pbmc, k = 15, num.pcs = 15, nn.type = \"snn\")\n",
    "plotReducedDimension(cellrouter.pbmc, reduction.type = \"custom\", annotation = \"population\", annotation.color = \"colors\",\n",
    "                     showlabels = T, dotsize = 0.01, labelsize = 5, convex = FALSE)"
   ]
  },
  {
   "cell_type": "markdown",
   "metadata": {},
   "source": [
    "## 12. Identification of cluster-specific gene signatures and marker genes\n",
    "\n",
    "Parameters of *findSignatures* function:\n",
    "- assay.type = \"RNA\", defining transcriptomics analysis.\n",
    "- column = “population”, defining the column with the groups in metadata.\n",
    "- test.use = \"wilcox\", defining the differential expression test to use.\n",
    "- min.pct = 0.25, defining the minimum percentage of detection.\n",
    "- fc.threshold = 0.25, defining the fold change threshold.\n",
    "- pos.only = TRUE, defining to get only the up-regulated genes."
   ]
  },
  {
   "cell_type": "code",
   "execution_count": null,
   "metadata": {},
   "outputs": [],
   "source": [
    "markers <- findSignatures(cellrouter.pbmc, assay.type = \"RNA\", column = \"population\", \n",
    "                          test.use = \"wilcox\", min.pct = 0.25, fc.threshold = 0.25, pos.only = T) \n",
    "markers.top5 <- as.data.frame(markers %>% \n",
    "                              group_by(population) %>% \n",
    "                              top_n(5, fc))\n",
    "plot <- plotSignaturesHeatmap(cellrouter.pbmc, assay.type = \"RNA\", markers.top5, genes.show = as.vector(markers.top5$gene), threshold =  3, \n",
    "                              column.ann = \"population\", column.color = \"colors\")\n",
    "grid::grid.draw(plot$gtable)"
   ]
  },
  {
   "cell_type": "markdown",
   "metadata": {},
   "source": [
    "## 13. Assigning cell type to clusters\n",
    "\n",
    "Plotting gene expression on a UMAP projection for selected genes."
   ]
  },
  {
   "cell_type": "code",
   "execution_count": null,
   "metadata": {},
   "outputs": [],
   "source": [
    "# Plot gene expression\n",
    "genelist = c(\"MS4A1\", \"GNLY\", \"CD3E\", \"CD14\", \"FCER1A\", \"FCGR3A\", \"LYZ\", \"PPBP\", \"CD8A\")\n",
    "plotDRExpression(cellrouter.pbmc, assay.type = \"RNA\", genelist = genelist, reduction.type = 'custom', \n",
    "                 dims.use = c(1, 2), threshold = 3, columns = 3, title = \"\")"
   ]
  },
  {
   "cell_type": "markdown",
   "metadata": {},
   "source": [
    "Determining the cell types based on gene markers and transferring annotations to clusters:\n",
    "\n",
    "| Cluster |     Markers     |     Cell type     |\n",
    "|:-------:|:---------------:|:-----------------:|\n",
    "|    1    |      _CD8A_     |       CD8+ T      |\n",
    "|    2    |     _MS4A1_     |         B         |\n",
    "|    3    |      _IL7R_     |    Memory CD4+    |\n",
    "|    4    |   _CD14, LYZ_   |  CD14+ Monocytes  |\n",
    "|    5    |   _GNLY, NKG7_  |         NK        |\n",
    "|    6    |      _CCR7_     |    Naive CD4+ T   |\n",
    "|    7    | _FCGR3A, MS4A7_ | FCGR3A+ Monocytes |\n",
    "|    8    |     _FCER1A_    |         DC        |\n",
    "|    9    |      _PPBP_     |   Megakaryocytes  |"
   ]
  },
  {
   "cell_type": "code",
   "execution_count": null,
   "metadata": {},
   "outputs": [],
   "source": [
    "#Gene markers\n",
    "markers.top10 <- as.data.frame(markers %>% \n",
    "                               group_by(population) %>% \n",
    "                               top_n(10, fc))\n",
    "\n",
    "tmp <- recode(as.character(cellrouter.pbmc@assays$RNA@sampTab$population), \n",
    "              \"1\" = \"CD8\", \n",
    "              \"2\" = \"B\", \n",
    "              \"3\" = \"Memory CD4\", \n",
    "              \"4\" = \"CD14 Monocytes\", \n",
    "              \"5\" = \"NK\", \n",
    "              \"6\" = \"Naive CD4\",\n",
    "              \"7\" = \"FCGR3A Monocytes\", \n",
    "              \"8\" = \"DC\",\n",
    "              \"9\" = \"Megakaryocytes\")\n",
    "names(tmp) <- rownames(cellrouter.pbmc@assays$RNA@sampTab)\n",
    "\n",
    "df <- data.frame(cluster = cellrouter.pbmc@assays$RNA@sampTab$population, celltype = tmp)\n",
    "rownames(df) <- rownames(cellrouter.pbmc@assays$RNA@sampTab)\n",
    "cellrouter.pbmc <- addInfo(cellrouter.pbmc, assay.type = \"RNA\", metadata = df, colname = \"celltype\", metadata.column = \"celltype\")\n",
    "plotReducedDimension(cellrouter.pbmc, reduction.type = \"custom\", annotation = \"celltype\", annotation.color = \"colors\", \n",
    "                     showlabels = T, dotsize = 0.01, labelsize = 5, convex = FALSE)"
   ]
  }
 ],
 "metadata": {
  "kernelspec": {
   "display_name": "R",
   "language": "R",
   "name": "ir"
  },
  "language_info": {
   "codemirror_mode": "r",
   "file_extension": ".r",
   "mimetype": "text/x-r-source",
   "name": "R",
   "pygments_lexer": "r",
   "version": "4.1.1"
  }
 },
 "nbformat": 4,
 "nbformat_minor": 4
}
